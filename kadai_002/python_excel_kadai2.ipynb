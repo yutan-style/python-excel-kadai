{
  "nbformat": 4,
  "nbformat_minor": 0,
  "metadata": {
    "colab": {
      "provenance": []
    },
    "kernelspec": {
      "name": "python3",
      "display_name": "Python 3"
    },
    "language_info": {
      "name": "python"
    }
  },
  "cells": [
    {
      "cell_type": "code",
      "execution_count": 1,
      "metadata": {
        "colab": {
          "base_uri": "https://localhost:8080/"
        },
        "id": "pvtJ-I1UIAk_",
        "outputId": "e62e0a03-cd49-42d8-dd40-b2dac5c3f37e"
      },
      "outputs": [
        {
          "output_type": "stream",
          "name": "stdout",
          "text": [
            "Excelファイル '業績.xlsx' が正常に作成されました。\n"
          ]
        }
      ],
      "source": [
        "import pandas as pd\n",
        "\n",
        "# 元となる売上データを作成\n",
        "data = {\n",
        "    '日付': ['2023-05-17', '2023-05-18', '2023-05-19', '2023-05-20', '2023-05-21'],\n",
        "    '社員名': ['山田', '佐藤', '鈴木', '田中', '高橋'],\n",
        "    '売上': [100, 200, 150, 300, 250],\n",
        "    '部門': ['メーカー', '代理店', 'メーカー', '商社', '代理店']\n",
        "}\n",
        "\n",
        "# データフレームを作成\n",
        "df = pd.DataFrame(data)\n",
        "\n",
        "# 平均売上を計算\n",
        "average_sales = df['売上'].mean()\n",
        "\n",
        "# 平均売上列を追加\n",
        "df['平均売上'] = average_sales\n",
        "\n",
        "# 業績ランクを設定する関数\n",
        "def performance(sales):\n",
        "    if sales >= average_sales + 50:\n",
        "        return 'A'\n",
        "    elif sales >= average_sales:\n",
        "        return 'B'\n",
        "    else:\n",
        "        return 'C'\n",
        "\n",
        "# 業績ランク列を追加\n",
        "df['業績ランク'] = df['売上'].apply(performance)\n",
        "\n",
        "# データフレームをExcelファイルに書き出し\n",
        "df.to_excel('業績.xlsx', index=False)\n",
        "\n"
      ]
    }
  ]
}