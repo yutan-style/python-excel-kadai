{
  "nbformat": 4,
  "nbformat_minor": 0,
  "metadata": {
    "colab": {
      "provenance": []
    },
    "kernelspec": {
      "name": "python3",
      "display_name": "Python 3"
    },
    "language_info": {
      "name": "python"
    }
  },
  "cells": [
    {
      "cell_type": "code",
      "execution_count": 3,
      "metadata": {
        "colab": {
          "base_uri": "https://localhost:8080/"
        },
        "id": "wz0sLOmc1auU",
        "outputId": "3bb70a2a-d6a3-41de-d600-22e52d0134fc"
      },
      "outputs": [
        {
          "output_type": "stream",
          "name": "stdout",
          "text": [
            "Excelファイル '請求書_20240911.xlsx' が正常に作成されました。\n"
          ]
        }
      ],
      "source": [
        "from openpyxl import Workbook\n",
        "from datetime import datetime\n",
        "\n",
        "# 新しいExcelワークブックを作成し、アクティブなワークシートを選択\n",
        "wb = Workbook()\n",
        "ws = wb.active\n",
        "\n",
        "# シートのタイトルを設定\n",
        "ws.title = \"請求書\"\n",
        "\n",
        "# 固定データの入力\n",
        "ws['B2'] = '請求書'\n",
        "ws['B4'] = '株式会社ABC'\n",
        "ws['B5'] = '〒101-0022 東京都千代田区神田練塀町300'\n",
        "ws['B6'] = 'TEL: 03-1234-5678 FAX: 03-1234-5678'\n",
        "ws['B7'] = '担当者名: 鈴木一郎 様'\n",
        "\n",
        "# 請求書番号と日付の入力\n",
        "ws['G4'] = 'No.'\n",
        "ws['H4'] = '0001'\n",
        "ws['G5'] = '日付'\n",
        "ws['H5'] = datetime.now().strftime('%Y/%m/%d')  # 現在の日付を設定\n",
        "\n",
        "# 商品情報のテーブルヘッダー\n",
        "ws['B10'] = '商品名'\n",
        "ws['C10'] = '数量'\n",
        "ws['D10'] = '単価'\n",
        "ws['E10'] = '金額'\n",
        "\n",
        "# 商品詳細の入力\n",
        "ws['B11'] = '商品A'\n",
        "ws['C11'] = 2\n",
        "ws['D11'] = 10000\n",
        "ws['E11'] = 20000\n",
        "\n",
        "ws['B12'] = '商品B'\n",
        "ws['C12'] = 1\n",
        "ws['D12'] = 15000\n",
        "ws['E12'] = 15000\n",
        "\n",
        "# 合計情報の入力\n",
        "ws['D14'] = '合計'\n",
        "ws['E14'] = 35000\n",
        "ws['D15'] = '消費税'\n",
        "ws['E15'] = 3500\n",
        "ws['D16'] = '税込合計'\n",
        "ws['E16'] = 38500\n",
        "\n",
        "# ワークブックを保存\n",
        "file_name = f\"請求書_{datetime.now().strftime('%Y%m%d')}.xlsx\"\n",
        "wb.save(file_name)\n",
        "print(f\"Excelファイル '{file_name}' が正常に作成されました。\")\n"
      ]
    }
  ]
}