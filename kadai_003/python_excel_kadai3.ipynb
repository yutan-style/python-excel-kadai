{
  "nbformat": 4,
  "nbformat_minor": 0,
  "metadata": {
    "colab": {
      "provenance": []
    },
    "kernelspec": {
      "name": "python3",
      "display_name": "Python 3"
    },
    "language_info": {
      "name": "python"
    }
  },
  "cells": [
    {
      "cell_type": "code",
      "execution_count": 2,
      "metadata": {
        "id": "3_svKmKnAEZf"
      },
      "outputs": [],
      "source": [
        "import pandas as pd\n",
        "from openpyxl import load_workbook\n",
        "from openpyxl.styles import PatternFill\n",
        "\n",
        "# Step 1: 2022年と2023年のデータを読み込み、データフレームを作成\n",
        "df_2022 = pd.read_excel('2022_年間売上表.xlsx', sheet_name='Sheet1')\n",
        "df_2023 = pd.read_excel('2023_年間売上表.xlsx', sheet_name='Sheet1')\n",
        "\n",
        "# Step 2: データを連結\n",
        "df_combined = pd.concat([df_2022, df_2023])\n",
        "\n",
        "# Step 3: 「商品」「売上年」ごとにグループ化し、合計金額に集約\n",
        "df_grouped = df_combined.groupby(['商品', '売上年'])['金額（千円）'].sum().reset_index()\n",
        "\n",
        "# 新規Excelファイル「売上集計表.xlsx」にデータを書き込み\n",
        "output_file = '売上集計表.xlsx'\n",
        "df_grouped.to_excel(output_file, index=False, sheet_name='集計表')\n",
        "\n",
        "# Step 4: Excelファイルのヘッダー部分を薄いグレーに設定\n",
        "# Excelファイルをロード\n",
        "wb = load_workbook(output_file)\n",
        "ws = wb['集計表']\n",
        "\n",
        "# ヘッダー部分（1行目）を薄いグレーに設定\n",
        "header_fill = PatternFill(start_color='F2F2F2', end_color='F2F2F2', fill_type='solid')\n",
        "for cell in ws[1]:\n",
        "    cell.fill = header_fill\n",
        "\n",
        "# ファイルを保存\n",
        "wb.save(output_file)"
      ]
    }
  ]
}